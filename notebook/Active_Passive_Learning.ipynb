{
 "cells": [
  {
   "cell_type": "markdown",
   "id": "31e08ad6",
   "metadata": {},
   "source": [
    "## Project: Banknote authentication\n",
    "### Passive and Active Learning"
   ]
  },
  {
   "cell_type": "markdown",
   "id": "220e33f9",
   "metadata": {},
   "source": [
    "### Perform:\n",
    "\n",
    "1. Passive Learning\n",
    "2. Active Learning\n",
    "\n",
    "to classify bank notes"
   ]
  },
  {
   "cell_type": "markdown",
   "id": "9b4e1d1c",
   "metadata": {},
   "source": [
    "## Importing necessary packages"
   ]
  },
  {
   "cell_type": "code",
   "execution_count": 657,
   "id": "af1fa312",
   "metadata": {},
   "outputs": [],
   "source": [
    "import numpy as np\n",
    "import pandas as pd\n",
    "import matplotlib.pyplot as plt\n",
    "import seaborn as sns\n",
    "\n",
    "from sklearn.model_selection import train_test_split\n",
    "from sklearn.svm import SVC\n",
    "from sklearn.model_selection import GridSearchCV\n",
    "from sklearn.preprocessing import StandardScaler\n",
    "from sklearn.svm import LinearSVC\n",
    "import sklearn.metrics as metrics\n",
    "\n",
    "import warnings # Package to ignore warnings\n",
    "warnings.filterwarnings('ignore')\n",
    "\n",
    "import random\n",
    "from sklearn.cluster import KMeans\n",
    "from sklearn.metrics.pairwise import euclidean_distances\n",
    "from sklearn.cluster import SpectralClustering\n",
    "from sklearn.neighbors import KNeighborsClassifier\n",
    "from sklearn.utils import shuffle"
   ]
  },
  {
   "cell_type": "markdown",
   "id": "e7c1cb32",
   "metadata": {},
   "source": [
    "## UDFs"
   ]
  },
  {
   "cell_type": "code",
   "execution_count": 2,
   "id": "d0aafc58",
   "metadata": {},
   "outputs": [],
   "source": [
    "def fn_test_train_split(test_size=0.2):\n",
    "\n",
    "    '''Test size is the only parameter needed to pass into the function with default 0.2\n",
    "    This function splits the breast cancer dataset into test-train and returns 4 outputs:\n",
    "        a. X Train\n",
    "        b. X Test\n",
    "        c. y Train\n",
    "        d. y Test\n",
    "    '''\n",
    "    \n",
    "    X_train, X_test, y_train, y_test = train_test_split(cancer_data.drop(['id','class'], axis=1), \n",
    "                                                    cancer_data[['class']],\n",
    "                                                    test_size=0.2,\n",
    "                                                    stratify=cancer_data['class']\n",
    "                                                   )\n",
    "    return(X_train, X_test, y_train, y_test)"
   ]
  },
  {
   "cell_type": "code",
   "execution_count": 386,
   "id": "26bfae49",
   "metadata": {},
   "outputs": [],
   "source": [
    "def fn_roc_auc(FPR, TPR):\n",
    "    \n",
    "    '''Function to create ROC curve - Inputs are FPR, TPR'''\n",
    "    \n",
    "    plt.plot(FPR, TPR)\n",
    "    plt.plot([0,1],[0,1])\n",
    "\n",
    "    plt.xlabel('False Positive Rate')\n",
    "    plt.ylabel('True Positive Rate')\n",
    "    plt.title('ROC curve')\n",
    "    \n",
    "    plt.show()"
   ]
  },
  {
   "cell_type": "markdown",
   "id": "541d7d71",
   "metadata": {},
   "source": [
    "## Active & Passive learning using SVM"
   ]
  },
  {
   "cell_type": "markdown",
   "id": "15c4f93e",
   "metadata": {},
   "source": [
    "### a) Downloading the dataset from: \n",
    "https://archive.ics.uci.edu/ml/datasets/banknote+authentication"
   ]
  },
  {
   "cell_type": "code",
   "execution_count": 989,
   "id": "1c9f3434",
   "metadata": {},
   "outputs": [],
   "source": [
    "banknote_df = pd.read_csv('../data/data_banknote_authentication.csv', header=None)"
   ]
  },
  {
   "cell_type": "code",
   "execution_count": 990,
   "id": "1f9027b9",
   "metadata": {},
   "outputs": [],
   "source": [
    "# Since column names are not available, using the ones mentioned in the attribute information section of the data source\n",
    "col_names  = ['variance','skewness','curtosis','entropy','class']"
   ]
  },
  {
   "cell_type": "code",
   "execution_count": 991,
   "id": "5eb39404",
   "metadata": {},
   "outputs": [],
   "source": [
    "banknote_df.columns = col_names"
   ]
  },
  {
   "cell_type": "code",
   "execution_count": 992,
   "id": "b7bec033",
   "metadata": {},
   "outputs": [
    {
     "data": {
      "text/html": [
       "<div>\n",
       "<style scoped>\n",
       "    .dataframe tbody tr th:only-of-type {\n",
       "        vertical-align: middle;\n",
       "    }\n",
       "\n",
       "    .dataframe tbody tr th {\n",
       "        vertical-align: top;\n",
       "    }\n",
       "\n",
       "    .dataframe thead th {\n",
       "        text-align: right;\n",
       "    }\n",
       "</style>\n",
       "<table border=\"1\" class=\"dataframe\">\n",
       "  <thead>\n",
       "    <tr style=\"text-align: right;\">\n",
       "      <th></th>\n",
       "      <th>variance</th>\n",
       "      <th>skewness</th>\n",
       "      <th>curtosis</th>\n",
       "      <th>entropy</th>\n",
       "      <th>class</th>\n",
       "    </tr>\n",
       "  </thead>\n",
       "  <tbody>\n",
       "    <tr>\n",
       "      <th>0</th>\n",
       "      <td>3.6216</td>\n",
       "      <td>8.6661</td>\n",
       "      <td>-2.8073</td>\n",
       "      <td>-0.44699</td>\n",
       "      <td>0</td>\n",
       "    </tr>\n",
       "    <tr>\n",
       "      <th>1</th>\n",
       "      <td>4.5459</td>\n",
       "      <td>8.1674</td>\n",
       "      <td>-2.4586</td>\n",
       "      <td>-1.46210</td>\n",
       "      <td>0</td>\n",
       "    </tr>\n",
       "  </tbody>\n",
       "</table>\n",
       "</div>"
      ],
      "text/plain": [
       "   variance  skewness  curtosis  entropy  class\n",
       "0    3.6216    8.6661   -2.8073 -0.44699      0\n",
       "1    4.5459    8.1674   -2.4586 -1.46210      0"
      ]
     },
     "execution_count": 992,
     "metadata": {},
     "output_type": "execute_result"
    }
   ],
   "source": [
    "banknote_df.head(2)"
   ]
  },
  {
   "cell_type": "code",
   "execution_count": 993,
   "id": "09d86b04",
   "metadata": {},
   "outputs": [
    {
     "data": {
      "text/plain": [
       "(1372, 5)"
      ]
     },
     "execution_count": 993,
     "metadata": {},
     "output_type": "execute_result"
    }
   ],
   "source": [
    "banknote_df.shape"
   ]
  },
  {
   "cell_type": "code",
   "execution_count": 994,
   "id": "6275c0bb",
   "metadata": {},
   "outputs": [],
   "source": [
    "# Randomizing the rows\n",
    "banknote_df = shuffle(banknote_df)"
   ]
  },
  {
   "cell_type": "markdown",
   "id": "0c358c9e",
   "metadata": {},
   "source": [
    "#### Normalizing the data"
   ]
  },
  {
   "cell_type": "code",
   "execution_count": 995,
   "id": "fc427734",
   "metadata": {},
   "outputs": [],
   "source": [
    "# Splitting data into train-test parts randomly with train size as 472\n",
    "X_train, X_test, y_train, y_test = train_test_split(banknote_df.drop(['class'], axis=1), \n",
    "                                                    banknote_df[['class']],\n",
    "                                                    test_size=472\n",
    "                                                   )\n",
    "\n",
    "# Normalizing the data\n",
    "standarization = StandardScaler()\n",
    "\n",
    "# Train data\n",
    "train_std = standarization.fit(X_train)\n",
    "X_train_trf = train_std.transform(X_train)\n",
    "\n",
    "# Test data\n",
    "test_std = standarization.fit(X_test)\n",
    "X_test_trf = train_std.transform(X_test)"
   ]
  },
  {
   "cell_type": "code",
   "execution_count": 1000,
   "id": "4752b8f9",
   "metadata": {
    "scrolled": true
   },
   "outputs": [
    {
     "name": "stdout",
     "output_type": "stream",
     "text": [
      "(900, 4)\n",
      "(472, 4)\n"
     ]
    }
   ],
   "source": [
    "print(X_train_trf.shape)\n",
    "print(X_test_trf.shape)"
   ]
  },
  {
   "cell_type": "markdown",
   "id": "474469b8",
   "metadata": {},
   "source": [
    "### b) Train SVMs"
   ]
  },
  {
   "cell_type": "markdown",
   "id": "2945386f",
   "metadata": {},
   "source": [
    "#### i) Passive Learning"
   ]
  },
  {
   "cell_type": "code",
   "execution_count": 1046,
   "id": "ce507d35",
   "metadata": {},
   "outputs": [],
   "source": [
    "def svc_ideal_parameters(traindata_X,traindata_y):\n",
    "\n",
    "    '''This function helps to obtain the macximum and minimum range parameter values namely c & gamma in the \n",
    "    support vector cassifier to achieve an accuracy of atleast 70% \n",
    "    Input parameters:\n",
    "        1. X train dataset\n",
    "        2. y train dataset\n",
    "    '''\n",
    "    \n",
    "    logspace = np.logspace(-5,8,14)\n",
    "    c_list = []\n",
    "\n",
    "    for log in logspace:\n",
    "        model_svm = SVC(C = log)\n",
    "        model_svm.fit(X_train,y_train)\n",
    "        y_pred = model_svm.predict(X_train)\n",
    "\n",
    "        if metrics.accuracy_score(y_pred,y_train) >= 0.7: # Filtering for parameters resulting in accuracy of atleast 0.7\n",
    "            c_list.append(log)\n",
    "    \n",
    "    return(round(min(c_list),3),round(max(c_list),3))"
   ]
  },
  {
   "cell_type": "code",
   "execution_count": 1047,
   "id": "b3d194bf",
   "metadata": {},
   "outputs": [
    {
     "data": {
      "text/plain": [
       "(0.01, 100000000.0)"
      ]
     },
     "execution_count": 1047,
     "metadata": {},
     "output_type": "execute_result"
    }
   ],
   "source": [
    "svc_ideal_parameters(X_train_trf,y_train)"
   ]
  },
  {
   "cell_type": "code",
   "execution_count": 1048,
   "id": "7f308e47",
   "metadata": {},
   "outputs": [],
   "source": [
    "X_train_trf_df = pd.DataFrame(X_train_trf)"
   ]
  },
  {
   "cell_type": "code",
   "execution_count": null,
   "id": "eed1de14",
   "metadata": {
    "scrolled": true
   },
   "outputs": [],
   "source": []
  },
  {
   "cell_type": "code",
   "execution_count": 1054,
   "id": "dbc6b72a",
   "metadata": {},
   "outputs": [],
   "source": [
    "error_passive = []\n",
    "\n",
    "for num in range(0,50):\n",
    "    \n",
    "    X_rolling_df = pd.DataFrame(columns=range(4))\n",
    "    y_rolling_df = pd.DataFrame(columns=range(1))\n",
    "\n",
    "    X_rolling_df.columns = list(X_train.columns)\n",
    "    y_rolling_df.columns = list(y_train.columns)\n",
    "    \n",
    "    error_ls = []\n",
    "    for i in range(0,90):\n",
    "        # Model\n",
    "        m_svm_passive = LinearSVC(penalty='l1',dual=False)\n",
    "        m_svm_passive = GridSearchCV(estimator=m_svm_passive, param_grid={'C': np.logspace(-2,6,8)}, cv=5)\n",
    "\n",
    "        X_random10_df = X_train_trf_df[10*i:10*(i+1)]\n",
    "        X_random10_df.columns = list(X_train.columns)\n",
    "\n",
    "        y_random10_df = y_train[10*i:10*(i+1)]\n",
    "        y_random10_df.columns = list(y_train.columns)\n",
    "\n",
    "        X_rolling_df = pd.concat([X_rolling_df,X_random10_df])\n",
    "\n",
    "        y_rolling_df = pd.concat([y_rolling_df,y_random10_df])\n",
    "        y_rolling_df=y_rolling_df.astype('int')\n",
    "\n",
    "        m_svm_passive.fit(X_rolling_df.values, y_rolling_df.values)\n",
    "        y_pred = m_svm_passive.predict(X_test_trf)\n",
    "\n",
    "        error_ls.append(1- metrics.accuracy_score(y_pred, y_test))\n",
    "\n",
    "    error_passive.append(error_ls)"
   ]
  },
  {
   "cell_type": "markdown",
   "id": "4b7e9ad9",
   "metadata": {},
   "source": [
    "#### ii) Active Learning"
   ]
  },
  {
   "cell_type": "code",
   "execution_count": 1055,
   "id": "dab96d76",
   "metadata": {},
   "outputs": [],
   "source": [
    "error_active = []\n",
    "\n",
    "for num in range(0,50):\n",
    "    y_train_new = y_train.copy()\n",
    "    X_train_trf_df_new = X_train_trf_df.copy()\n",
    "    y_train_new = y_train_new.reset_index(drop=True)\n",
    "\n",
    "    X_rolling_df = pd.DataFrame(columns=range(4))\n",
    "    y_rolling_df = pd.DataFrame(columns=range(1))\n",
    "\n",
    "    X_rolling_df.columns = list(X_train.columns)\n",
    "    y_rolling_df.columns = list(y_train.columns)\n",
    "\n",
    "    # Model\n",
    "    error_ls = []\n",
    "\n",
    "    m_svm_passive = LinearSVC(penalty='l1',dual=False)\n",
    "    m_svm_passive = GridSearchCV(estimator=m_svm_passive, param_grid={'C': np.logspace(-2,6,8)}, cv=5)\n",
    "\n",
    "    X_rolling_df = X_train_trf_df_new[0:10]\n",
    "    X_rolling_df.columns = list(X_train.columns)\n",
    "\n",
    "    y_rolling_df = y_train[0:10]\n",
    "    y_rolling_df.columns = list(y_train.columns)\n",
    "    y_rolling_df = y_rolling_df.astype('int')\n",
    "\n",
    "    m_svm_passive.fit(X_rolling_df.values, y_rolling_df.values)\n",
    "    y_pred = m_svm_passive.predict(X_test_trf)\n",
    "    error_ls.append(1- metrics.accuracy_score(y_pred, y_test))\n",
    "\n",
    "    closest10 = list(range(0,10))\n",
    "    \n",
    "    for i in range(1,90):\n",
    "\n",
    "        # Adding closest 10\n",
    "        df_X_closest10 = X_train_trf_df_new.filter(items= closest10, axis=0)\n",
    "        df_y_closest10 = y_train_new.filter(items= closest10, axis=0)\n",
    "        df_X_closest10.columns = list(X_train.columns)\n",
    "        df_y_closest10.columns = list(y_train.columns)\n",
    "\n",
    "        X_rolling_df = pd.concat([X_rolling_df,df_X_closest10])\n",
    "        y_rolling_df = pd.concat([y_rolling_df,df_y_closest10])\n",
    "        y_rolling_df = y_rolling_df.astype('int')\n",
    "\n",
    "        # Dropping closest 10\n",
    "        X_train_trf_df_new = X_train_trf_df_new.drop(index=closest10, axis=0)\n",
    "        y_train_new = y_train_new.drop(index=closest10, axis=0)\n",
    "\n",
    "        X_train_trf_df_new.reset_index(inplace=True, drop=True)\n",
    "        y_train_new.reset_index(inplace=True, drop=True)\n",
    "\n",
    "        # Model\n",
    "        m_svm_passive = LinearSVC(penalty='l1',dual=False)\n",
    "        m_svm_passive = GridSearchCV(estimator=m_svm_passive, param_grid={'C': np.logspace(-2,6,8)}, cv=5)\n",
    "\n",
    "        m_svm_passive.fit(X_rolling_df.values, y_rolling_df.values)\n",
    "        y_pred = m_svm_passive.predict(X_test_trf)\n",
    "\n",
    "        dist_active = pd.DataFrame(m_svm_passive.decision_function(X_train_trf_df_new))\n",
    "        dist_active_sorted = dist_active.sort_values(by=0)\n",
    "        closest10 = list(dist_active_sorted[0:10].index)\n",
    "\n",
    "        error_ls.append(1- metrics.accuracy_score(y_pred, y_test))\n",
    "    error_active.append(error_ls)"
   ]
  },
  {
   "cell_type": "markdown",
   "id": "8e1adeae",
   "metadata": {},
   "source": [
    "### c) Comparison b/w Active and Passive learning"
   ]
  },
  {
   "cell_type": "code",
   "execution_count": 1056,
   "id": "1304d1a8",
   "metadata": {},
   "outputs": [],
   "source": [
    "temp_passive = pd.DataFrame(error_passive).mean()\n",
    "temp_active = pd.DataFrame(error_active).mean()"
   ]
  },
  {
   "cell_type": "code",
   "execution_count": 1057,
   "id": "4808f8dd",
   "metadata": {
    "scrolled": true
   },
   "outputs": [
    {
     "data": {
      "image/png": "[encoded data removed]",
      "text/plain": [
       "<Figure size 432x288 with 1 Axes>"
      ]
     },
     "metadata": {
      "needs_background": "light"
     },
     "output_type": "display_data"
    }
   ],
   "source": [
    "plt.plot(list(range(0,900,10)),temp_passive,label=\"Passive\")\n",
    "plt.plot(list(range(0,900,10)),temp_active,label=\"Active\")\n",
    "\n",
    "plt.title('Learning curve by Monte-Carlo simulation: Active v/s Passive learning')\n",
    "plt.xlabel('# training samples')\n",
    "plt.ylabel('Test error (Averaged)')\n",
    "plt.legend()\n",
    "\n",
    "plt.show()"
   ]
  },
  {
   "cell_type": "markdown",
   "id": "d1d868e1",
   "metadata": {},
   "source": [
    "## Sources \n",
    "\n",
    "1. https://stackoverflow.com/questions/34842405/parameter-stratify-from-method-train-test-split-scikit-learn\n",
    "2. https://scikit-learn.org/stable/modules/generated/sklearn.model_selection.train_test_split.html\n",
    "3. https://scikit-learn.org/stable/modules/generated/sklearn.preprocessing.StandardScaler.html\n",
    "4. https://scikit-learn.org/stable/modules/generated/sklearn.svm.LinearSVC.html\n",
    "5. https://scikit-learn.org/stable/modules/generated/sklearn.model_selection.GridSearchCV.html\n",
    "6. https://datatofish.com/filter-pandas-dataframe/\n",
    "7. https://pandas.pydata.org/docs/reference/api/pandas.Series.append.html\n",
    "8. https://scikit-learn.org/stable/modules/generated/sklearn.svm.SVC.html\n",
    "9. https://scikit-learn.org/stable/modules/generated/sklearn.cluster.KMeans.html\n",
    "10. https://scikit-learn.org/stable/modules/generated/sklearn.metrics.pairwise.euclidean_distances.html\n",
    "11. https://scikit-learn.org/stable/modules/generated/sklearn.cluster.SpectralClustering.html\n",
    "12. https://scikit-learn.org/stable/modules/generated/sklearn.neighbors.KNeighborsClassifier.html\n",
    "13. https://stackoverflow.com/questions/29576430/shuffle-dataframe-rows\n"
   ]
  }
 ],
 "metadata": {
  "kernelspec": {
   "display_name": "Python 3",
   "language": "python",
   "name": "python3"
  },
  "language_info": {
   "codemirror_mode": {
    "name": "ipython",
    "version": 3
   },
   "file_extension": ".py",
   "mimetype": "text/x-python",
   "name": "python",
   "nbconvert_exporter": "python",
   "pygments_lexer": "ipython3",
   "version": "3.8.8"
  }
 },
 "nbformat": 4,
 "nbformat_minor": 5
}
